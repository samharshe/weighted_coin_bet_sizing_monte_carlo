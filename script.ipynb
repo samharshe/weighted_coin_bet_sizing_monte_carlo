{
 "cells": [
  {
   "cell_type": "code",
   "execution_count": 13,
   "metadata": {},
   "outputs": [],
   "source": [
    "import random\n",
    "\n",
    "def flip_coin(weight):\n",
    "    return random.random() < weight"
   ]
  },
  {
   "cell_type": "code",
   "execution_count": 39,
   "metadata": {},
   "outputs": [],
   "source": [
    "def calculate_new_pot_size(old_pot_size, bet_proportion, weight):\n",
    "    return old_pot_size * (1 + bet_proportion) if flip_coin(weight) else (old_pot_size * (1 - bet_proportion))"
   ]
  },
  {
   "cell_type": "code",
   "execution_count": null,
   "metadata": {},
   "outputs": [],
   "source": [
    "pot_size = 1\n",
    "i = 0.5\n",
    "j = 0.005\n",
    "while i <= 1.0:\n",
    "    while j <= 1.0:\n",
    "        for k in range(10000):\n",
    "            pot_size = calculate_new_pot_size(pot_size, j, i)\n",
    "        print(f\"Ending value: {pot_size}\")\n",
    "        print(f\"Bet proportion: {j}\")\n",
    "        print(f\"Coin weight: {i}\")\n",
    "        print(\"\\n\")\n",
    "        pot_size = 1\n",
    "        j += 0.005\n",
    "    i += 0.005"
   ]
  }
 ],
 "metadata": {
  "kernelspec": {
   "display_name": "Python 3",
   "language": "python",
   "name": "python3"
  },
  "language_info": {
   "codemirror_mode": {
    "name": "ipython",
    "version": 3
   },
   "file_extension": ".py",
   "mimetype": "text/x-python",
   "name": "python",
   "nbconvert_exporter": "python",
   "pygments_lexer": "ipython3",
   "version": "3.11.2"
  },
  "orig_nbformat": 4
 },
 "nbformat": 4,
 "nbformat_minor": 2
}
